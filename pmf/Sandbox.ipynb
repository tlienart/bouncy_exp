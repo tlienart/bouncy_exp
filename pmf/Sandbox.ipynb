{
 "cells": [
  {
   "cell_type": "code",
   "execution_count": null,
   "metadata": {},
   "outputs": [],
   "source": [
    "using Plots\n",
    "gr()"
   ]
  },
  {
   "cell_type": "code",
   "execution_count": null,
   "metadata": {},
   "outputs": [],
   "source": [
    "function compareGaussian(sxx, syy, mu, S, iS, d1=1, d2=2)\n",
    "    # get 2d sub-covariance matrix\n",
    "    Ss = S[[d1,d2],[d1,d2]]\n",
    "    # get mean & diagonal sd\n",
    "    mu1, mu2 = mu[d1], mu[d2]\n",
    "    s1,  s2  = sqrt(S[d1,d1]), sqrt(S[d2,d2])\n",
    "\n",
    "    x1min, x1max = mu1 + 2*[-s1,s1]\n",
    "    x2min, x2max = mu2 + 2*[-s2,s2]\n",
    "\n",
    "    ng    = 50 \n",
    "    x     = linspace(x1min, x1max, ng)\n",
    "    y     = linspace(x2min, x2max, ng)\n",
    "    xgrid = repmat(x', ng, 1)\n",
    "    ygrid = repmat(y, 1, ng)\n",
    "\n",
    "    z = zeros(ng,ng)\n",
    "    for i in 1:ng, j in 1:ng\n",
    "        dx     = [x[i],y[j]]-[mu1,mu2]\n",
    "        z[i,j] = exp(-dot(iS*dx, dx))\n",
    "    end\n",
    "\n",
    "    contour(x,y,z)\n",
    "    scatter!(sxx,syy, markersize=0.1)\n",
    "end"
   ]
  },
  {
   "cell_type": "code",
   "execution_count": null,
   "metadata": {},
   "outputs": [],
   "source": [
    "include(\"hmc.jl\")"
   ]
  },
  {
   "cell_type": "code",
   "execution_count": null,
   "metadata": {},
   "outputs": [],
   "source": [
    "S  = [1/3 1/2; 1/2 1];\n",
    "iS = [12 -6; -6 4];\n",
    "mu = [0.5, 0.5]\n",
    "\n",
    "loglik(x)     = -dot(iS*(x-mu), (x-mu))/2\n",
    "gradloglik(x) = iS*(mu-x)\n",
    "\n",
    "x0 = [0.2, 0.2]\n",
    "\n",
    "samples = hmc(loglik, gradloglik, x0; steps=10000, stepsize=1e-1);"
   ]
  },
  {
   "cell_type": "code",
   "execution_count": null,
   "metadata": {},
   "outputs": [],
   "source": [
    "xx = [samples[i][1] for i in 1:length(samples)]\n",
    "yy = [samples[i][2] for i in 1:length(samples)]\n",
    ";"
   ]
  },
  {
   "cell_type": "code",
   "execution_count": null,
   "metadata": {},
   "outputs": [],
   "source": [
    "compareGaussian(xx, yy, mu, S, iS)"
   ]
  },
  {
   "cell_type": "code",
   "execution_count": null,
   "metadata": {},
   "outputs": [],
   "source": [
    "println(round(mean(xx),2), \" -x- \", mu[1])\n",
    "println(round(mean(yy),2), \" -y- \", mu[2])\n",
    "println(round(std(xx), 2), \" -x- \", sqrt(S[1,1]))\n",
    "println(round(std(yy), 2), \" -y- \", sqrt(S[2,2]))"
   ]
  },
  {
   "cell_type": "code",
   "execution_count": null,
   "metadata": {},
   "outputs": [],
   "source": []
  }
 ],
 "metadata": {
  "kernelspec": {
   "display_name": "Julia 0.6.0",
   "language": "julia",
   "name": "julia-0.6"
  },
  "language_info": {
   "file_extension": ".jl",
   "mimetype": "application/julia",
   "name": "julia",
   "version": "0.6.0"
  }
 },
 "nbformat": 4,
 "nbformat_minor": 2
}
