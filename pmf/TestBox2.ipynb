{
 "cells": [
  {
   "cell_type": "markdown",
   "metadata": {},
   "source": [
    "## Plotting library\n",
    "\n",
    "This is not going to be needed much so it can be skipped."
   ]
  },
  {
   "cell_type": "code",
   "execution_count": 1,
   "metadata": {},
   "outputs": [
    {
     "data": {
      "text/plain": [
       "Plots.GRBackend()"
      ]
     },
     "execution_count": 1,
     "metadata": {},
     "output_type": "execute_result"
    }
   ],
   "source": [
    "using Plots\n",
    "gr()"
   ]
  },
  {
   "cell_type": "markdown",
   "metadata": {},
   "source": [
    "## PDMP libraries + JLD and co\n",
    "\n",
    "Takes 10 seconds to load in Julia 0.6, this is due to ApproxFun... "
   ]
  },
  {
   "cell_type": "code",
   "execution_count": 2,
   "metadata": {},
   "outputs": [
    {
     "name": "stdout",
     "output_type": "stream",
     "text": [
      "loading PDMP... [done in 9.4s]\n",
      "loading other packages... [done in 1.5s]\n"
     ]
    }
   ],
   "source": [
    "print(\"loading PDMP... \"); ta = time()\n",
    "using PDMP\n",
    "println(\"[done in $(round(time()-ta,1))s]\")\n",
    "\n",
    "print(\"loading other packages... \"); ta = time()\n",
    "using JLD\n",
    "println(\"[done in $(round(time()-ta,1))s]\")\n",
    "\n",
    "cprint(s, b)   = b ? print(s)   : nothing\n",
    "cprintln(s, b) = b ? println(s) : nothing\n",
    ";"
   ]
  },
  {
   "cell_type": "markdown",
   "metadata": {},
   "source": [
    "## Loading & prepping of data\n",
    "\n",
    "Note: the scaling (or absence thereof) of the data, changes the scale of the RMSE. One has to be careful about that before comparing with \"benchmark data\"."
   ]
  },
  {
   "cell_type": "code",
   "execution_count": 3,
   "metadata": {},
   "outputs": [
    {
     "name": "stdout",
     "output_type": "stream",
     "text": [
      "reading and preparing data... [done in 1.9s]\n"
     ]
    }
   ],
   "source": [
    "verb = true\n",
    "\n",
    "cprint(\"reading and preparing data... \", verb) ; ta = time()\n",
    "\n",
    "# This is the Movielens 1M dataset\n",
    "rows      = vec(readdlm(\"data/rows.csv\",  Int))\n",
    "cols      = vec(readdlm(\"data/cols.csv\",  Int))\n",
    "raw_rates = vec(readdlm(\"data/rates.csv\", Float64))\n",
    "\n",
    "raw_rates_c = raw_rates-mean(raw_rates)\n",
    "\n",
    "# centre and scale the rates\n",
    "range     = maximum(raw_rates)-minimum(raw_rates)\n",
    "nrm_rates = (raw_rates_c)/range\n",
    "\n",
    "# scaling as per Salakhutdinov & Mni\n",
    "pmf_rates = (raw_rates - minimum(raw_rates))/range\n",
    "\n",
    "cprintln(\"[done in $(round(time()-ta,1))s]\", verb)\n",
    ";"
   ]
  },
  {
   "cell_type": "markdown",
   "metadata": {},
   "source": [
    "### Picking one to go with"
   ]
  },
  {
   "cell_type": "code",
   "execution_count": 4,
   "metadata": {},
   "outputs": [],
   "source": [
    "#rates = pmf_rates\n",
    "rates = raw_rates_c\n",
    ";"
   ]
  },
  {
   "cell_type": "markdown",
   "metadata": {},
   "source": [
    "## Splitting train & test\n",
    "\n",
    "90% for training, remaining for test."
   ]
  },
  {
   "cell_type": "code",
   "execution_count": 5,
   "metadata": {},
   "outputs": [],
   "source": [
    "srand(555)\n",
    "\n",
    "nfull      = length(rates)\n",
    "ntrain     = round(Int,0.90*nfull)\n",
    "mask       = randperm(nfull)\n",
    "train_mask = mask[1:ntrain]\n",
    "test_mask  = mask[(ntrain+1):end]\n",
    "\n",
    "ntest = length(test_mask)\n",
    ";"
   ]
  },
  {
   "cell_type": "markdown",
   "metadata": {},
   "source": [
    "## Computation of base sigmas\n",
    "\n",
    "* $\\sigma_R = 0.5$ (orig paper)\n",
    "* $\\sigma_U, \\sigma_V$ set as per https://pymc-devs.github.io/pymc3/notebooks/pmf-pymc.html"
   ]
  },
  {
   "cell_type": "code",
   "execution_count": 6,
   "metadata": {},
   "outputs": [
    {
     "name": "stdout",
     "output_type": "stream",
     "text": [
      "2.0\n",
      "1.1050959450267932\n",
      "1.044191506613901\n"
     ]
    }
   ],
   "source": [
    "rs = rates[train_mask]\n",
    "\n",
    "nU = maximum(rows)\n",
    "nV = maximum(cols)\n",
    "\n",
    "cU,sU,s2U = zeros(nU), zeros(nU), zeros(nU)\n",
    "cV,sV,s2V = zeros(nV), zeros(nV), zeros(nV)\n",
    "\n",
    "for (k,rk) in enumerate(rs)\n",
    "    cU[rows[k]]  += 1\n",
    "    sU[rows[k]]  += rk\n",
    "    s2U[rows[k]] += rk^2\n",
    "    cV[cols[k]]  += 1\n",
    "    sV[cols[k]]  += rk\n",
    "    s2V[cols[k]] += rk^2\n",
    "end\n",
    "vU = (s2U ./ cU) - (sU ./ cU).^2\n",
    "vV = (s2V ./ cV) - (sV ./ cV).^2\n",
    "\n",
    "vU[vU.<1e-10]=0.0\n",
    "vV[vV.<1e-10]=0.0\n",
    "\n",
    "\n",
    "base_sigma_r = 0.5*4 # Salakhutdinov & Mni (scaled)\n",
    "# https://pymc-devs.github.io/pymc3/notebooks/pmf-pymc.html\n",
    "base_sigma_u = mean(sqrt.(vU[.~isnan.(vU)]))\n",
    "base_sigma_v = mean(sqrt.(vV[.~isnan.(vV)]))\n",
    "\n",
    "println(base_sigma_r)\n",
    "println(base_sigma_u)\n",
    "println(base_sigma_v)"
   ]
  },
  {
   "cell_type": "markdown",
   "metadata": {},
   "source": [
    "### Studying the 0 vector"
   ]
  },
  {
   "cell_type": "code",
   "execution_count": 7,
   "metadata": {},
   "outputs": [
    {
     "name": "stdout",
     "output_type": "stream",
     "text": [
      "train vs 0vec: 1.1174\n",
      "test  vs 0vec: 1.1145\n"
     ]
    }
   ],
   "source": [
    "println(\"train vs 0vec: \", \n",
    "    round(sqrt(sum(rates[train_mask].^2)/ntrain),4))\n",
    "println(\"test  vs 0vec: \",\n",
    "    round(sqrt(sum(rates[test_mask].^2)/ntest),4))"
   ]
  },
  {
   "cell_type": "code",
   "execution_count": 43,
   "metadata": {},
   "outputs": [],
   "source": [
    "include(\"pmf_rmse.jl\")\n",
    ";"
   ]
  },
  {
   "cell_type": "markdown",
   "metadata": {},
   "source": [
    "## SVD"
   ]
  },
  {
   "cell_type": "code",
   "execution_count": 9,
   "metadata": {},
   "outputs": [],
   "source": [
    "d = 10\n",
    "\n",
    "spmat = sparse(\n",
    "            rows[train_mask],\n",
    "            cols[train_mask],\n",
    "            rates[train_mask]\n",
    "        )\n",
    "S = svds(spmat, nsv=d)[1]\n",
    "\n",
    "sS = sqrt.(S.S)\n",
    "\n",
    "xSVD  = [vec(diagm(sS) * S.U'); vec(diagm(sS) * S.Vt)]\n",
    ";"
   ]
  },
  {
   "cell_type": "code",
   "execution_count": 10,
   "metadata": {},
   "outputs": [
    {
     "name": "stdout",
     "output_type": "stream",
     "text": [
      "training rmse (SVD): 0.9886040071534168\n",
      "testing rmse (SVD): 1.0027202112661955\n"
     ]
    }
   ],
   "source": [
    "# training error\n",
    "println(\"training rmse (SVD): \",\n",
    "    pmf_rmse(rows[train_mask], cols[train_mask], rates[train_mask], \n",
    "                nU, nV, d, xSVD))\n",
    "println(\"testing rmse (SVD): \",\n",
    "    pmf_rmse(rows[test_mask], cols[test_mask], rates[test_mask],\n",
    "                nU, nV, d, xSVD))"
   ]
  },
  {
   "cell_type": "markdown",
   "metadata": {},
   "source": [
    "## LBPS runs"
   ]
  },
  {
   "cell_type": "code",
   "execution_count": 11,
   "metadata": {},
   "outputs": [
    {
     "data": {
      "text/plain": [
       "pmf_lbps (generic function with 2 methods)"
      ]
     },
     "execution_count": 11,
     "metadata": {},
     "output_type": "execute_result"
    }
   ],
   "source": [
    "include(\"pmf_lbps.jl\")"
   ]
  },
  {
   "cell_type": "code",
   "execution_count": 12,
   "metadata": {},
   "outputs": [],
   "source": [
    "data = Dict(\n",
    "    \"ROWS\"  => rows[train_mask],\n",
    "    \"COLS\"  => cols[train_mask],\n",
    "    \"RATES\" => rates[train_mask]\n",
    ");"
   ]
  },
  {
   "cell_type": "code",
   "execution_count": 34,
   "metadata": {},
   "outputs": [
    {
     "name": "stdout",
     "output_type": "stream",
     "text": [
      "Starting LBPS...preparing the graph... [done in 4.8s]\n",
      "initialising the simulation... [done in 0.0s]\n",
      "starting the simulation... \n"
     ]
    },
    {
     "name": "stderr",
     "output_type": "stream",
     "text": [
      "\u001b[1m\u001b[33mWARNING: \u001b[39m\u001b[22m\u001b[33mPriorityQueue{K, V}(::Type{K}, ::Type{V}) is deprecated, use PriorityQueue{K, V}() instead.\u001b[39m\n",
      "Stacktrace:\n",
      " [1] \u001b[1mdepwarn\u001b[22m\u001b[22m\u001b[1m(\u001b[22m\u001b[22m::String, ::Symbol\u001b[1m)\u001b[22m\u001b[22m at \u001b[1m./deprecated.jl:70\u001b[22m\u001b[22m\n",
      " [2] \u001b[1mDataStructures.PriorityQueue\u001b[22m\u001b[22m\u001b[1m(\u001b[22m\u001b[22m::Type{Int64}, ::Type{Float64}\u001b[1m)\u001b[22m\u001b[22m at \u001b[1m./deprecated.jl:57\u001b[22m\u001b[22m\n",
      " [3] \u001b[1mls_init\u001b[22m\u001b[22m\u001b[1m(\u001b[22m\u001b[22m::PDMP.LocalSimulation\u001b[1m)\u001b[22m\u001b[22m at \u001b[1m/Users/tlienart/.julia/v0.6/PDMP/src/local/simulate.jl:129\u001b[22m\u001b[22m\n",
      " [4] \u001b[1msimulate\u001b[22m\u001b[22m\u001b[1m(\u001b[22m\u001b[22m::PDMP.LocalSimulation\u001b[1m)\u001b[22m\u001b[22m at \u001b[1m/Users/tlienart/.julia/v0.6/PDMP/src/local/simulate.jl:60\u001b[22m\u001b[22m\n",
      " [5] \u001b[1mpmf_lbps\u001b[22m\u001b[22m\u001b[1m(\u001b[22m\u001b[22m::Dict{String,Any}, ::Dict{String,Any}, ::Bool\u001b[1m)\u001b[22m\u001b[22m at \u001b[1m/Users/tlienart/Dropbox/bouncy_exp/pmf/pmf_lbps.jl:92\u001b[22m\u001b[22m\n",
      " [6] \u001b[1mpmf_lbps\u001b[22m\u001b[22m\u001b[1m(\u001b[22m\u001b[22m::Dict{String,Any}, ::Dict{String,Any}\u001b[1m)\u001b[22m\u001b[22m at \u001b[1m/Users/tlienart/Dropbox/bouncy_exp/pmf/pmf_lbps.jl:3\u001b[22m\u001b[22m\n",
      " [7] \u001b[1minclude_string\u001b[22m\u001b[22m\u001b[1m(\u001b[22m\u001b[22m::String, ::String\u001b[1m)\u001b[22m\u001b[22m at \u001b[1m./loading.jl:515\u001b[22m\u001b[22m\n",
      " [8] \u001b[1minclude_string\u001b[22m\u001b[22m\u001b[1m(\u001b[22m\u001b[22m::Module, ::String, ::String\u001b[1m)\u001b[22m\u001b[22m at \u001b[1m/Users/tlienart/.julia/v0.6/Compat/src/Compat.jl:464\u001b[22m\u001b[22m\n",
      " [9] \u001b[1mexecute_request\u001b[22m\u001b[22m\u001b[1m(\u001b[22m\u001b[22m::ZMQ.Socket, ::IJulia.Msg\u001b[1m)\u001b[22m\u001b[22m at \u001b[1m/Users/tlienart/.julia/v0.6/IJulia/src/execute_request.jl:154\u001b[22m\u001b[22m\n",
      " [10] \u001b[1meventloop\u001b[22m\u001b[22m\u001b[1m(\u001b[22m\u001b[22m::ZMQ.Socket\u001b[1m)\u001b[22m\u001b[22m at \u001b[1m/Users/tlienart/.julia/v0.6/IJulia/src/eventloop.jl:8\u001b[22m\u001b[22m\n",
      " [11] \u001b[1m(::IJulia.##14#17)\u001b[22m\u001b[22m\u001b[1m(\u001b[22m\u001b[22m\u001b[1m)\u001b[22m\u001b[22m at \u001b[1m./task.jl:335\u001b[22m\u001b[22m\n",
      "while loading In[34], in expression starting on line 26\n",
      "\u001b[32mProgress:  98%|████████████████████████████████████████ |  ETA: 0:00:01\u001b[39m\r"
     ]
    },
    {
     "name": "stdout",
     "output_type": "stream",
     "text": [
      "... simulation finished (95.3s)\n",
      "... LBPS finished (100.1s)\n"
     ]
    },
    {
     "name": "stderr",
     "output_type": "stream",
     "text": [
      "\u001b[32mProgress: 100%|█████████████████████████████████████████|  ETA: 0:00:00\u001b[39m\r",
      "\u001b[32mProgress: 100%|█████████████████████████████████████████| Time: 0:00:56\u001b[39m\n"
     ]
    }
   ],
   "source": [
    "d  = 10\n",
    "sU = base_sigma_u\n",
    "sV = base_sigma_v\n",
    "sR = base_sigma_r\n",
    "lr = 0.01\n",
    "mn = 1000\n",
    "mt = Inf\n",
    "\n",
    "en = \"d$d-sU$(round(sU,2))-sV$(round(sV,2))-sR$sR-lr$lr-mn$mn-mt$mt\"\n",
    "\n",
    "# draw x0 from spherical priors\n",
    "x0 = xSVD\n",
    "\n",
    "lbpsparams = Dict(\n",
    "    \"EXPNAME\"    => en, # name of the experiment\n",
    "    \"LATENT_D\"   => d,  # dimension of latent space\n",
    "    \"SIGMA_U\"    => sU, #\n",
    "    \"SIGMA_V\"    => sV, #\n",
    "    \"SIGMA_R\"    => sR, #\n",
    "    \"X0\"         => x0, #\n",
    "    \"LAMBDAREF\"  => lr, # refreshment rate\n",
    "    \"MAXNEVENTS\" => mn, # maximum number of events to generate\n",
    "    \"MAXT\"       => mt, # maximum time\n",
    ")\n",
    "ta      = time()\n",
    "results = pmf_lbps(data, lbpsparams)\n",
    "simtime = round(time()-ta, 2)\n",
    "\n",
    "# ------------------------------------\n",
    "\n",
    "pm  = pathmean(results[\"ALL_EVLIST\"])\n",
    "pmu = pm[1:nU]\n",
    "pmv = pm[nU+1:end]\n",
    "\n",
    "xx = similar(x0)\n",
    "for i in 1:length(pm)\n",
    "    xx[((i-1)*d+1):(i*d)] = pm[i]\n",
    "end\n",
    "\n",
    ";"
   ]
  },
  {
   "cell_type": "code",
   "execution_count": 35,
   "metadata": {},
   "outputs": [
    {
     "name": "stdout",
     "output_type": "stream",
     "text": [
      "0.9885777036477144 -- 1.0027114754343391\n"
     ]
    }
   ],
   "source": [
    "rmse_train = pmf_rmse(rows[train_mask], cols[train_mask], rates[train_mask],  \n",
    "                        nU, nV, d, xx)\n",
    "rmse_test  = pmf_rmse(rows[test_mask], cols[test_mask], rates[test_mask],  \n",
    "                        nU, nV, d, xx)\n",
    "\n",
    "println(\"$rmse_train -- $rmse_test\")"
   ]
  },
  {
   "cell_type": "code",
   "execution_count": 91,
   "metadata": {},
   "outputs": [
    {
     "data": {
      "text/html": [
       "0.3489218358973028"
      ],
      "text/plain": [
       "0.3489218358973028"
      ]
     },
     "execution_count": 91,
     "metadata": {},
     "output_type": "execute_result"
    }
   ],
   "source": [
    "var(length(results[\"ALL_EVLIST\"].evl[i].ts) for i in 1:length(results[\"ALL_EVLIST\"].evl))"
   ]
  },
  {
   "cell_type": "code",
   "execution_count": 75,
   "metadata": {},
   "outputs": [
    {
     "data": {
      "text/plain": [
       "40-element Array{Array{Float64,1},1}:\n",
       " [-0.0403848, -0.0484269, 0.0450904, -0.0169327, 0.0129558, -0.0801606, 0.0259553, 0.0366208, -0.021325, -0.0321542]\n",
       " [-0.0406837, -0.0118641, 0.129956, -0.0432231, -0.0122626, -0.111194, 0.0209135, 0.0439405, -0.077655, -0.0375269] \n",
       " [-0.0409826, 0.0246987, 0.214822, -0.0695135, -0.037481, -0.142228, 0.0158717, 0.0512602, -0.133985, -0.0428996]   \n",
       " [-0.0412814, 0.0612615, 0.299688, -0.0958039, -0.0626994, -0.173262, 0.0108299, 0.0585798, -0.190315, -0.0482722]  \n",
       " [-0.0415803, 0.0978243, 0.384554, -0.122094, -0.0879178, -0.204296, 0.00578812, 0.0658995, -0.246645, -0.0536449]  \n",
       " [-0.0418792, 0.134387, 0.46942, -0.148385, -0.113136, -0.23533, 0.000746336, 0.0732192, -0.302975, -0.0590176]     \n",
       " [-0.042178, 0.17095, 0.554285, -0.174675, -0.138355, -0.266364, -0.00429545, 0.0805388, -0.359305, -0.0643902]     \n",
       " [-0.0424769, 0.207513, 0.639151, -0.200965, -0.163573, -0.297398, -0.00933724, 0.0878585, -0.415635, -0.0697629]   \n",
       " [-0.0427758, 0.244075, 0.724017, -0.227256, -0.188791, -0.328431, -0.014379, 0.0951782, -0.471965, -0.0751356]     \n",
       " [-0.0430747, 0.280638, 0.808883, -0.253546, -0.21401, -0.359465, -0.0194208, 0.102498, -0.528295, -0.0805083]      \n",
       " [-0.0433735, 0.317201, 0.893749, -0.279837, -0.239228, -0.390499, -0.0244626, 0.109818, -0.584625, -0.0858809]     \n",
       " [-0.0436724, 0.353764, 0.978615, -0.306127, -0.264447, -0.421533, -0.0295044, 0.117137, -0.640955, -0.0912536]     \n",
       " [-0.0439713, 0.390327, 1.06348, -0.332417, -0.289665, -0.452567, -0.0345462, 0.124457, -0.697285, -0.0966263]      \n",
       " ⋮                                                                                                                  \n",
       " [-0.0487532, 0.975331, 2.42133, -0.753063, -0.69316, -0.949108, -0.115215, 0.241572, -1.59857, -0.182589]          \n",
       " [-0.0490521, 1.01189, 2.5062, -0.779354, -0.718378, -0.980142, -0.120257, 0.248891, -1.6549, -0.187962]            \n",
       " [-0.049351, 1.04846, 2.59107, -0.805644, -0.743596, -1.01118, -0.125298, 0.256211, -1.71123, -0.193334]            \n",
       " [-0.0496498, 1.08502, 2.67593, -0.831934, -0.768815, -1.04221, -0.13034, 0.263531, -1.76756, -0.198707]            \n",
       " [-0.0499487, 1.12158, 2.7608, -0.858225, -0.794033, -1.07324, -0.135382, 0.27085, -1.82389, -0.20408]              \n",
       " [-0.0502476, 1.15815, 2.84566, -0.884515, -0.819252, -1.10428, -0.140424, 0.27817, -1.88022, -0.209452]            \n",
       " [-0.0505464, 1.19471, 2.93053, -0.910806, -0.84447, -1.13531, -0.145465, 0.28549, -1.93655, -0.214825]             \n",
       " [-0.0508453, 1.23127, 3.01539, -0.937096, -0.869688, -1.16635, -0.150507, 0.292809, -1.99288, -0.220198]           \n",
       " [-0.0511442, 1.26783, 3.10026, -0.963386, -0.894907, -1.19738, -0.155549, 0.300129, -2.04921, -0.22557]            \n",
       " [-0.0514431, 1.3044, 3.18513, -0.989677, -0.920125, -1.22841, -0.160591, 0.307449, -2.10554, -0.230943]            \n",
       " [-0.0517419, 1.34096, 3.26999, -1.01597, -0.945344, -1.25945, -0.165633, 0.314768, -2.16187, -0.236316]            \n",
       " [-0.0520408, 1.37752, 3.35486, -1.04226, -0.970562, -1.29048, -0.170674, 0.322088, -2.2182, -0.241688]             "
      ]
     },
     "execution_count": 75,
     "metadata": {},
     "output_type": "execute_result"
    }
   ],
   "source": [
    "samplelocalpath(results[\"ALL_EVLIST\"].evl[3], linspace(0,results[\"SIM_DETAILS\"][\"globalclock\"],40))"
   ]
  },
  {
   "cell_type": "code",
   "execution_count": 57,
   "metadata": {},
   "outputs": [
    {
     "ename": "LoadError",
     "evalue": "\u001b[91mMethodError: no method matching samplepath(::PDMP.AllEventList)\u001b[0m\nClosest candidates are:\n  samplepath(\u001b[91m::PDMP.Path\u001b[39m, \u001b[91m::Float64\u001b[39m) at /Users/tlienart/.julia/v0.6/PDMP/src/path.jl:88\n  samplepath(\u001b[91m::PDMP.Path\u001b[39m, \u001b[91m::Union{Array{Float64,1}, Range{Float64}}\u001b[39m) at /Users/tlienart/.julia/v0.6/PDMP/src/path.jl:66\u001b[39m",
     "output_type": "error",
     "traceback": [
      "\u001b[91mMethodError: no method matching samplepath(::PDMP.AllEventList)\u001b[0m\nClosest candidates are:\n  samplepath(\u001b[91m::PDMP.Path\u001b[39m, \u001b[91m::Float64\u001b[39m) at /Users/tlienart/.julia/v0.6/PDMP/src/path.jl:88\n  samplepath(\u001b[91m::PDMP.Path\u001b[39m, \u001b[91m::Union{Array{Float64,1}, Range{Float64}}\u001b[39m) at /Users/tlienart/.julia/v0.6/PDMP/src/path.jl:66\u001b[39m",
      "",
      "Stacktrace:",
      " [1] \u001b[1minclude_string\u001b[22m\u001b[22m\u001b[1m(\u001b[22m\u001b[22m::String, ::String\u001b[1m)\u001b[22m\u001b[22m at \u001b[1m./loading.jl:515\u001b[22m\u001b[22m"
     ]
    }
   ],
   "source": [
    "samplepath(results[\"ALL_EVLIST\"], )"
   ]
  },
  {
   "cell_type": "code",
   "execution_count": null,
   "metadata": {},
   "outputs": [],
   "source": [
    " # -------------------------------------\n",
    "\n",
    "open(\"results.dat\",\"a\") do f\n",
    "    l = \"$en : $simtime s : $rmse_test\\n\"\n",
    "    print(l)\n",
    "    write(f, l)\n",
    "end\n"
   ]
  },
  {
   "cell_type": "markdown",
   "metadata": {},
   "source": [
    "## HMC territory"
   ]
  },
  {
   "cell_type": "code",
   "execution_count": 24,
   "metadata": {},
   "outputs": [
    {
     "data": {
      "text/plain": [
       "(loglik, gradloglik)"
      ]
     },
     "execution_count": 24,
     "metadata": {},
     "output_type": "execute_result"
    }
   ],
   "source": [
    "include(\"pmf_ll.jl\")\n",
    "(ll, gll) = pmf_ll(rows[train_mask], cols[train_mask], rates[train_mask], \n",
    "                    nU, nV, sR, sU, sV, d)"
   ]
  },
  {
   "cell_type": "markdown",
   "metadata": {},
   "source": [
    "## HMC runs"
   ]
  },
  {
   "cell_type": "code",
   "execution_count": 25,
   "metadata": {},
   "outputs": [
    {
     "data": {
      "text/plain": [
       "hmc (generic function with 1 method)"
      ]
     },
     "execution_count": 25,
     "metadata": {},
     "output_type": "execute_result"
    }
   ],
   "source": [
    "include(\"hmc.jl\")"
   ]
  },
  {
   "cell_type": "code",
   "execution_count": 26,
   "metadata": {},
   "outputs": [
    {
     "name": "stderr",
     "output_type": "stream",
     "text": [
      "\u001b[32mProgress:  98%|████████████████████████████████████████ |  ETA: 0:00:02\u001b[39m"
     ]
    },
    {
     "name": "stdout",
     "output_type": "stream",
     "text": [
      "108.81666398048401"
     ]
    },
    {
     "name": "stderr",
     "output_type": "stream",
     "text": [
      "\r",
      "\u001b[32mProgress: 100%|█████████████████████████████████████████| Time: 0:01:47\u001b[39m\n"
     ]
    }
   ],
   "source": [
    "ta = time()\n",
    "samples = hmc(ll, gll, x0; steps=50, burnin=5, stepsize=0.01);\n",
    "print(time()-ta)"
   ]
  },
  {
   "cell_type": "code",
   "execution_count": 39,
   "metadata": {},
   "outputs": [
    {
     "data": {
      "text/plain": [
       "(99920,)"
      ]
     },
     "execution_count": 39,
     "metadata": {},
     "output_type": "execute_result"
    }
   ],
   "source": [
    "size(samples[1])"
   ]
  },
  {
   "cell_type": "code",
   "execution_count": 27,
   "metadata": {},
   "outputs": [],
   "source": [
    "ss = sum(samples)/length(samples);"
   ]
  },
  {
   "cell_type": "code",
   "execution_count": 29,
   "metadata": {},
   "outputs": [
    {
     "data": {
      "text/html": [
       "0.9872230234264999"
      ],
      "text/plain": [
       "0.9872230234264999"
      ]
     },
     "execution_count": 29,
     "metadata": {},
     "output_type": "execute_result"
    }
   ],
   "source": [
    "pmf_rmse(rows[train_mask], cols[train_mask], rates[train_mask],  nU, nV, d, ss)"
   ]
  },
  {
   "cell_type": "code",
   "execution_count": 28,
   "metadata": {},
   "outputs": [
    {
     "data": {
      "text/html": [
       "1.0014518344059005"
      ],
      "text/plain": [
       "1.0014518344059005"
      ]
     },
     "execution_count": 28,
     "metadata": {},
     "output_type": "execute_result"
    }
   ],
   "source": [
    "pmf_rmse(rows[test_mask], cols[test_mask], rates[test_mask],  nU, nV, d, ss)"
   ]
  },
  {
   "cell_type": "code",
   "execution_count": 65,
   "metadata": {},
   "outputs": [
    {
     "data": {
      "text/plain": [
       "(99920,)"
      ]
     },
     "execution_count": 65,
     "metadata": {},
     "output_type": "execute_result"
    }
   ],
   "source": [
    "size(samples[1])"
   ]
  },
  {
   "cell_type": "code",
   "execution_count": 44,
   "metadata": {},
   "outputs": [
    {
     "data": {
      "text/html": [
       "0.9477468346227618"
      ],
      "text/plain": [
       "0.9477468346227618"
      ]
     },
     "execution_count": 44,
     "metadata": {},
     "output_type": "execute_result"
    }
   ],
   "source": [
    "pmf_rmse2(rows[train_mask], cols[train_mask], rates[train_mask],  nU, nV, d, samples)"
   ]
  },
  {
   "cell_type": "code",
   "execution_count": 45,
   "metadata": {},
   "outputs": [
    {
     "data": {
      "text/html": [
       "1.0014528276800125"
      ],
      "text/plain": [
       "1.0014528276800125"
      ]
     },
     "execution_count": 45,
     "metadata": {},
     "output_type": "execute_result"
    },
    {
     "ename": "BoundsError",
     "evalue": "\u001b[91mBoundsError: attempt to access \"sample\"\n  at index [0]\u001b[39m",
     "output_type": "error",
     "traceback": [
      "KERNEL EXCEPTION",
      "\u001b[91mBoundsError: attempt to access \"sample\"\n  at index [0]\u001b[39m",
      "",
      "Stacktrace:",
      " [1] \u001b[1mnext\u001b[22m\u001b[22m at \u001b[1m./strings/string.jl:197\u001b[22m\u001b[22m [inlined]",
      " [2] \u001b[1mgetindex\u001b[22m\u001b[22m\u001b[1m(\u001b[22m\u001b[22m::String, ::Int64\u001b[1m)\u001b[22m\u001b[22m at \u001b[1m./strings/basic.jl:32\u001b[22m\u001b[22m",
      " [3] \u001b[1mind2chr\u001b[22m\u001b[22m\u001b[1m(\u001b[22m\u001b[22m::String, ::Int64\u001b[1m)\u001b[22m\u001b[22m at \u001b[1m./strings/basic.jl:269\u001b[22m\u001b[22m",
      " [4] \u001b[1mind2chr\u001b[22m\u001b[22m\u001b[1m(\u001b[22m\u001b[22m::IJulia.Msg, ::String, ::Int64\u001b[1m)\u001b[22m\u001b[22m at \u001b[1m/Users/tlienart/.julia/v0.6/IJulia/src/handlers.jl:50\u001b[22m\u001b[22m",
      " [5] \u001b[1mcomplete_request\u001b[22m\u001b[22m\u001b[1m(\u001b[22m\u001b[22m::ZMQ.Socket, ::IJulia.Msg\u001b[1m)\u001b[22m\u001b[22m at \u001b[1m/Users/tlienart/.julia/v0.6/IJulia/src/handlers.jl:76\u001b[22m\u001b[22m",
      " [6] \u001b[1meventloop\u001b[22m\u001b[22m\u001b[1m(\u001b[22m\u001b[22m::ZMQ.Socket\u001b[1m)\u001b[22m\u001b[22m at \u001b[1m/Users/tlienart/.julia/v0.6/IJulia/src/eventloop.jl:8\u001b[22m\u001b[22m",
      " [7] \u001b[1m(::IJulia.##14#17)\u001b[22m\u001b[22m\u001b[1m(\u001b[22m\u001b[22m\u001b[1m)\u001b[22m\u001b[22m at \u001b[1m./task.jl:335\u001b[22m\u001b[22m"
     ]
    },
    {
     "name": "stderr",
     "output_type": "stream",
     "text": [
      "WARNING: both JLD and Plots export \"translate\"; uses of it in module Main must be qualified\n"
     ]
    }
   ],
   "source": [
    "pmf_rmse2(rows[test_mask], cols[test_mask], rates[test_mask],  nU, nV, d, samples)"
   ]
  },
  {
   "cell_type": "code",
   "execution_count": 36,
   "metadata": {},
   "outputs": [
    {
     "data": {
      "text/html": [
       "299760"
      ],
      "text/plain": [
       "299760"
      ]
     },
     "execution_count": 36,
     "metadata": {},
     "output_type": "execute_result"
    }
   ],
   "source": [
    "length(ss)"
   ]
  },
  {
   "cell_type": "markdown",
   "metadata": {
    "collapsed": true
   },
   "source": [
    "## ALL Results"
   ]
  },
  {
   "cell_type": "code",
   "execution_count": 31,
   "metadata": {},
   "outputs": [
    {
     "name": "stdout",
     "output_type": "stream",
     "text": [
      "RMSE train SVD : 0.9886040071534168\n",
      "RMSE train LBPS: 0.9885669934683817\n",
      "RMSE train HMC : 0.9872230234264999\n",
      "RMSE test  SVD : 1.0027202112661955\n",
      "RMSE test  LBPS: 1.0026865888012215\n",
      "RMSE test  HMC : 1.0014518344059005\n"
     ]
    }
   ],
   "source": [
    "errmod(mask, x) = pmf_rmse(rows[mask], cols[mask], rates[mask],  nU, nV, d, x)\n",
    "println(\"RMSE train SVD : $(errmod(train_mask, xSVD))\")\n",
    "println(\"RMSE train LBPS: $(errmod(train_mask, xx))\")\n",
    "println(\"RMSE train HMC : $(errmod(train_mask, ss))\")\n",
    "\n",
    "println(\"RMSE test  SVD : $(errmod(test_mask, xSVD))\")\n",
    "println(\"RMSE test  LBPS: $(errmod(test_mask, xx))\")\n",
    "println(\"RMSE test  HMC : $(errmod(test_mask, ss))\")\n"
   ]
  }
 ],
 "metadata": {
  "kernelspec": {
   "display_name": "Julia 0.6.0",
   "language": "julia",
   "name": "julia-0.6"
  },
  "language_info": {
   "file_extension": ".jl",
   "mimetype": "application/julia",
   "name": "julia",
   "version": "0.6.0"
  }
 },
 "nbformat": 4,
 "nbformat_minor": 2
}
