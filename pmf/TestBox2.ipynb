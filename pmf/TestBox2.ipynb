{
 "cells": [
  {
   "cell_type": "code",
   "execution_count": null,
   "metadata": {},
   "outputs": [],
   "source": [
    "print(\"loading PDMP... \"); ta = time()\n",
    "using PDMP\n",
    "println(\"[done in $(round(time()-ta,1))s]\")\n",
    "\n",
    "print(\"loading other packages... \"); ta = time()\n",
    "using JLD\n",
    "println(\"[done in $(round(time()-ta,1))s]\")\n",
    "\n",
    "cprint(s, b)   = b ? print(s)   : nothing\n",
    "cprintln(s, b) = b ? println(s) : nothing"
   ]
  },
  {
   "cell_type": "code",
   "execution_count": null,
   "metadata": {},
   "outputs": [],
   "source": [
    "########################################################\n",
    "# Idential preparation of the data for all experiments #\n",
    "########################################################\n",
    "verb = true\n",
    "\n",
    "cprint(\"reading and preparing data... \", verb) ; ta = time()\n",
    "\n",
    "rows  = vec(readdlm(\"data/rows.csv\",  Int))\n",
    "cols  = vec(readdlm(\"data/cols.csv\",  Int))\n",
    "rates = vec(readdlm(\"data/rates.csv\", Float64))\n",
    "\n",
    "# centre and scale the rates\n",
    "range  = maximum(rates)-minimum(rates)\n",
    "rates -= mean(rates)\n",
    "rates /= range\n",
    "\n",
    "data = Dict(\n",
    "    \"ROWS\"  => rows,\n",
    "    \"COLS\"  => cols,\n",
    "    \"RATES\" => rates\n",
    ")\n",
    "cprintln(\"[done in $(round(time()-ta,1))s]\", verb)\n",
    ";"
   ]
  },
  {
   "cell_type": "code",
   "execution_count": null,
   "metadata": {},
   "outputs": [],
   "source": [
    "nU = maximum(rows)\n",
    "nV = maximum(cols)\n",
    "\n",
    "cU,sU,s2U = zeros(nU), zeros(nU), zeros(nU)\n",
    "cV,sV,s2V = zeros(nV), zeros(nV), zeros(nV)\n",
    "\n",
    "for (k,rk) in enumerate(rates)\n",
    "    cU[rows[k]]  += 1\n",
    "    sU[rows[k]]  += rk\n",
    "    s2U[rows[k]] += rk^2\n",
    "    cV[cols[k]]  += 1\n",
    "    sV[cols[k]]  += rk\n",
    "    s2V[cols[k]] += rk^2\n",
    "end\n",
    "vU = (s2U ./ cU) - (sU ./ cU).^2\n",
    "vV = (s2V ./ cV) - (sV ./ cV).^2\n",
    "\n",
    "vU[vU.<1e-10]=0.0\n",
    "vV[vV.<1e-10]=0.0\n",
    ";"
   ]
  },
  {
   "cell_type": "code",
   "execution_count": null,
   "metadata": {},
   "outputs": [],
   "source": [
    "base_sigma_r = 0.5 # Salakhutdinov & Mni\n",
    "# https://pymc-devs.github.io/pymc3/notebooks/pmf-pymc.html\n",
    "base_sigma_u = mean(sqrt.(vU[.~isnan.(vU)]))\n",
    "base_sigma_v = mean(sqrt.(vV[.~isnan.(vV)]))\n",
    "\n",
    "println(base_sigma_u)\n",
    "println(base_sigma_v)"
   ]
  },
  {
   "cell_type": "markdown",
   "metadata": {},
   "source": [
    "## LBPS runs"
   ]
  },
  {
   "cell_type": "code",
   "execution_count": null,
   "metadata": {},
   "outputs": [],
   "source": [
    "include(\"pmf_lbps.jl\")"
   ]
  },
  {
   "cell_type": "code",
   "execution_count": null,
   "metadata": {},
   "outputs": [],
   "source": [
    "lbpsparams = Dict(\n",
    "    \"EXPNAME\"    => \"A\",   # name of the experiment\n",
    "    \"LATENT_D\"   => 10,    # dimension of latent space\n",
    "    \"SIGMA_U\"    => base_sigma_u,\n",
    "    \"SIGMA_V\"    => base_sigma_v,\n",
    "    \"SIGMA_R\"    => base_sigma_r,\n",
    "    \"LAMBDAREF\"  => 0.01,  # refreshment rate\n",
    "    \"MAXNEVENTS\" => 50,    # maximum number of events to generate\n",
    "    \"MAXT\"       => Inf,   # maximum time\n",
    ")\n",
    "srand(123)\n",
    "results = pmf_lbps(data, lbpsparams)"
   ]
  },
  {
   "cell_type": "code",
   "execution_count": null,
   "metadata": {},
   "outputs": [],
   "source": [
    "pm = pathmean(results[\"ALL_EVLIST\"])\n",
    "pmu = pm[1:nU]\n",
    "pmv = pm[nU+1:end]\n",
    "\n",
    "length(pmv) == nV"
   ]
  },
  {
   "cell_type": "markdown",
   "metadata": {},
   "source": [
    "### Computation of RMSE\n",
    "\n",
    "Note: this is on SCALED rates, so the number is lower"
   ]
  },
  {
   "cell_type": "code",
   "execution_count": null,
   "metadata": {},
   "outputs": [],
   "source": [
    "mir = minimum(rates)\n",
    "mar = maximum(rates)\n",
    "\n",
    "s = 0.0\n",
    "for (k, rk) in enumerate(rates)\n",
    "    i, j = rows[k], cols[k]\n",
    "    ui   = pmu[i]\n",
    "    vj   = pmu[j]\n",
    "    cand = dot(ui,vj)\n",
    "    cand = (cand > mar) ? mar : cand\n",
    "    cand = (cand < mir) ? mir : cand\n",
    "    s   += (rk - cand).^2\n",
    "end\n",
    "\n",
    "sqrt(s/length(rates))"
   ]
  },
  {
   "cell_type": "markdown",
   "metadata": {},
   "source": [
    "## HMC runs"
   ]
  },
  {
   "cell_type": "code",
   "execution_count": null,
   "metadata": {},
   "outputs": [],
   "source": [
    "include(\"hmc.jl\")\n",
    "include(\"pmf_ll.jl\")"
   ]
  },
  {
   "cell_type": "code",
   "execution_count": null,
   "metadata": {},
   "outputs": [],
   "source": [
    "d = 10"
   ]
  },
  {
   "cell_type": "code",
   "execution_count": null,
   "metadata": {},
   "outputs": [],
   "source": [
    "(ll, gll) = pmf_ll(rows, cols, rates, nU, nV, \n",
    "                    base_sigma_r, base_sigma_u, base_sigma_v, d)"
   ]
  },
  {
   "cell_type": "code",
   "execution_count": null,
   "metadata": {},
   "outputs": [],
   "source": [
    "x0 = base_sigma_u*randn(d)\n",
    "for i in 2:nU\n",
    "    append!(x0, base_sigma_u*randn(d))\n",
    "end\n",
    "for i in 1:nV\n",
    "    append!(x0, base_sigma_v*randn(d))\n",
    "end\n",
    ";"
   ]
  },
  {
   "cell_type": "code",
   "execution_count": null,
   "metadata": {},
   "outputs": [],
   "source": [
    "samples = hmc(ll, gll, x0; steps=50, burnin=5, stepsize=0.001);"
   ]
  },
  {
   "cell_type": "code",
   "execution_count": null,
   "metadata": {},
   "outputs": [],
   "source": [
    "ss = sum(samples)/length(samples);"
   ]
  },
  {
   "cell_type": "code",
   "execution_count": null,
   "metadata": {},
   "outputs": [],
   "source": [
    "u  = ss[1:(d*nU)]\n",
    "v  = ss[(d*nU+1):end]\n",
    "\n",
    "s = 0.0\n",
    "for (k, rk) in enumerate(rates)\n",
    "    i, j  = rows[k], cols[k]\n",
    "    mui   = ((i-1)*d+1):(i*d)\n",
    "    mvj   = ((j-1)*d+1):(j*d)\n",
    "    ui,vj = u[mui], v[mvj]\n",
    "\n",
    "    cand = dot(ui,vj)\n",
    "    cand = (cand > mar) ? mar : cand\n",
    "    cand = (cand < mir) ? mir : cand\n",
    "\n",
    "    s += (rk - cand).^2\n",
    "end\n",
    "sqrt(s/length(rates))"
   ]
  },
  {
   "cell_type": "code",
   "execution_count": null,
   "metadata": {},
   "outputs": [],
   "source": []
  }
 ],
 "metadata": {
  "kernelspec": {
   "display_name": "Julia 0.6.0",
   "language": "julia",
   "name": "julia-0.6"
  },
  "language_info": {
   "file_extension": ".jl",
   "mimetype": "application/julia",
   "name": "julia",
   "version": "0.6.0"
  }
 },
 "nbformat": 4,
 "nbformat_minor": 2
}
