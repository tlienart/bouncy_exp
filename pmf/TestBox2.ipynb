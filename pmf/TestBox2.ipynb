{
 "cells": [
  {
   "cell_type": "markdown",
   "metadata": {},
   "source": [
    "## Plotting library\n",
    "\n",
    "This is not going to be needed much so it can be skipped."
   ]
  },
  {
   "cell_type": "code",
   "execution_count": null,
   "metadata": {},
   "outputs": [],
   "source": [
    "using Plots\n",
    "gr()"
   ]
  },
  {
   "cell_type": "markdown",
   "metadata": {},
   "source": [
    "## PDMP libraries + JLD and co\n",
    "\n",
    "Takes 10 seconds to load in Julia 0.6, this is due to ApproxFun... "
   ]
  },
  {
   "cell_type": "code",
   "execution_count": null,
   "metadata": {},
   "outputs": [],
   "source": [
    "print(\"loading PDMP... \"); ta = time()\n",
    "using PDMP\n",
    "println(\"[done in $(round(time()-ta,1))s]\")\n",
    "\n",
    "print(\"loading other packages... \"); ta = time()\n",
    "using JLD\n",
    "println(\"[done in $(round(time()-ta,1))s]\")\n",
    "\n",
    "cprint(s, b)   = b ? print(s)   : nothing\n",
    "cprintln(s, b) = b ? println(s) : nothing\n",
    ";"
   ]
  },
  {
   "cell_type": "markdown",
   "metadata": {},
   "source": [
    "## Loading & prepping of data\n",
    "\n",
    "Note: the scaling (or absence thereof) of the data, changes the scale of the RMSE. One has to be careful about that before comparing with \"benchmark data\"."
   ]
  },
  {
   "cell_type": "code",
   "execution_count": null,
   "metadata": {},
   "outputs": [],
   "source": [
    "verb = true\n",
    "\n",
    "cprint(\"reading and preparing data... \", verb) ; ta = time()\n",
    "\n",
    "# This is the Movielens 1M dataset\n",
    "rows      = vec(readdlm(\"data/rows.csv\",  Int))\n",
    "cols      = vec(readdlm(\"data/cols.csv\",  Int))\n",
    "raw_rates = vec(readdlm(\"data/rates.csv\", Float64))\n",
    "\n",
    "# centre and scale the rates\n",
    "range     = maximum(raw_rates)-minimum(raw_rates)\n",
    "nrm_rates = (raw_rates - mean(raw_rates))/range\n",
    "\n",
    "# scaling as per Salakhutdinov & Mni\n",
    "pmf_rates = (raw_rates - minimum(raw_rates))/range\n",
    "\n",
    "cprintln(\"[done in $(round(time()-ta,1))s]\", verb)\n",
    ";"
   ]
  },
  {
   "cell_type": "markdown",
   "metadata": {},
   "source": [
    "### Picking one to go with"
   ]
  },
  {
   "cell_type": "code",
   "execution_count": null,
   "metadata": {},
   "outputs": [],
   "source": [
    "rates = pmf_rates;"
   ]
  },
  {
   "cell_type": "markdown",
   "metadata": {},
   "source": [
    "## Splitting train & test\n",
    "\n",
    "95% for training, remaining for test."
   ]
  },
  {
   "cell_type": "code",
   "execution_count": null,
   "metadata": {},
   "outputs": [],
   "source": [
    "nfull      = length(rates)\n",
    "ntrain     = round(Int,0.95*nfull)\n",
    "mask       = randperm(nfull)\n",
    "train_mask = mask[1:ntrain]\n",
    "test_mask  = mask[(ntrain+1):end]\n",
    ";"
   ]
  },
  {
   "cell_type": "markdown",
   "metadata": {},
   "source": [
    "## Computation of base sigmas\n",
    "\n",
    "* $\\sigma_R = 0.5$ (orig paper)\n",
    "* $\\sigma_U, \\sigma_V$ set as per https://pymc-devs.github.io/pymc3/notebooks/pmf-pymc.html"
   ]
  },
  {
   "cell_type": "code",
   "execution_count": null,
   "metadata": {},
   "outputs": [],
   "source": [
    "rs = rates[train_mask]\n",
    "\n",
    "nU = maximum(rows)\n",
    "nV = maximum(cols)\n",
    "\n",
    "cU,sU,s2U = zeros(nU), zeros(nU), zeros(nU)\n",
    "cV,sV,s2V = zeros(nV), zeros(nV), zeros(nV)\n",
    "\n",
    "for (k,rk) in enumerate(rs)\n",
    "    cU[rows[k]]  += 1\n",
    "    sU[rows[k]]  += rk\n",
    "    s2U[rows[k]] += rk^2\n",
    "    cV[cols[k]]  += 1\n",
    "    sV[cols[k]]  += rk\n",
    "    s2V[cols[k]] += rk^2\n",
    "end\n",
    "vU = (s2U ./ cU) - (sU ./ cU).^2\n",
    "vV = (s2V ./ cV) - (sV ./ cV).^2\n",
    "\n",
    "vU[vU.<1e-10]=0.0\n",
    "vV[vV.<1e-10]=0.0\n",
    "\n",
    "\n",
    "base_sigma_r = 0.5 # Salakhutdinov & Mni\n",
    "# https://pymc-devs.github.io/pymc3/notebooks/pmf-pymc.html\n",
    "base_sigma_u = mean(sqrt.(vU[.~isnan.(vU)]))\n",
    "base_sigma_v = mean(sqrt.(vV[.~isnan.(vV)]))\n",
    "\n",
    "println(base_sigma_r)\n",
    "println(base_sigma_u)\n",
    "println(base_sigma_v)"
   ]
  },
  {
   "cell_type": "markdown",
   "metadata": {},
   "source": [
    "### Studying the 0 vector"
   ]
  },
  {
   "cell_type": "code",
   "execution_count": null,
   "metadata": {},
   "outputs": [],
   "source": [
    "println(sqrt(sum(rates[train_mask].^2)/ntrain))\n",
    "println(sqrt(sum(rates[test_mask].^2)/ntest))"
   ]
  },
  {
   "cell_type": "code",
   "execution_count": null,
   "metadata": {},
   "outputs": [],
   "source": [
    "include(\"pmf_rmse.jl\");"
   ]
  },
  {
   "cell_type": "markdown",
   "metadata": {},
   "source": [
    "## SVD"
   ]
  },
  {
   "cell_type": "code",
   "execution_count": null,
   "metadata": {},
   "outputs": [],
   "source": [
    "d = 30\n",
    "\n",
    "spmat = sparse(rows[train_mask],cols[train_mask],rates[train_mask])\n",
    "S = svds(spmat, nsv=d)[1]\n",
    "\n",
    "xSVD  = [vec(S.U');vec(S.Vt)]\n",
    ";"
   ]
  },
  {
   "cell_type": "code",
   "execution_count": null,
   "metadata": {},
   "outputs": [],
   "source": [
    "# training error\n",
    "println(pmf_rmse(rows[train_mask],cols[train_mask],rates[train_mask], nU, nV, d, xSVD))\n",
    "println(pmf_rmse(rows[test_mask], cols[test_mask], rates[test_mask],  nU, nV, d, xSVD))"
   ]
  },
  {
   "cell_type": "markdown",
   "metadata": {},
   "source": [
    "## LBPS runs"
   ]
  },
  {
   "cell_type": "code",
   "execution_count": null,
   "metadata": {},
   "outputs": [],
   "source": [
    "include(\"pmf_lbps.jl\")"
   ]
  },
  {
   "cell_type": "code",
   "execution_count": null,
   "metadata": {},
   "outputs": [],
   "source": [
    "data = Dict(\n",
    "    \"ROWS\"  => rows[train_mask],\n",
    "    \"COLS\"  => cols[train_mask],\n",
    "    \"RATES\" => rates[train_mask]\n",
    ");"
   ]
  },
  {
   "cell_type": "code",
   "execution_count": null,
   "metadata": {},
   "outputs": [],
   "source": [
    "d  = 30\n",
    "sU = base_sigma_u\n",
    "sV = base_sigma_v\n",
    "sR = 0.5\n",
    "lr = 0.01\n",
    "mn = 5000\n",
    "mt = Inf\n",
    "\n",
    "en = \"d$d-sU$(round(sU,2))-sV$(round(sV,2))-sR$sR-lr$lr-mn$mn-mt$mt\"\n",
    "\n",
    "# draw x0 from spherical priors\n",
    "x0 = sU*randn(d)\n",
    "for i in 2:nU\n",
    "    append!(x0, sU*randn(d))\n",
    "end\n",
    "for i in 1:nV\n",
    "    append!(x0, sV*randn(d))\n",
    "end\n",
    "\n",
    "lbpsparams = Dict(\n",
    "    \"EXPNAME\"    => en, # name of the experiment\n",
    "    \"LATENT_D\"   => d,  # dimension of latent space\n",
    "    \"SIGMA_U\"    => sU, #\n",
    "    \"SIGMA_V\"    => sV, #\n",
    "    \"SIGMA_R\"    => sR, #\n",
    "    \"X0\"         => x0, #\n",
    "    \"LAMBDAREF\"  => lr, # refreshment rate\n",
    "    \"MAXNEVENTS\" => mn, # maximum number of events to generate\n",
    "    \"MAXT\"       => mt, # maximum time\n",
    ")\n",
    "ta      = time()\n",
    "results = pmf_lbps(data, lbpsparams)\n",
    "simtime = round(time()-ta,2)\n",
    "\n",
    "# ------------------------------------\n",
    "\n",
    "pm  = pathmean(results[\"ALL_EVLIST\"])\n",
    "pmu = pm[1:nU]\n",
    "pmv = pm[nU+1:end]\n",
    "\n",
    "xx = similar(x0)\n",
    "for i in 1:length(pm)\n",
    "    xx[((i-1)*30+1):(i*30)] = pm[i]\n",
    "end\n",
    "\n",
    "rmse = pmf_rmse(rows[test_mask], cols[test_mask], rates[test_mask],  nU, nV, d, xx)\n",
    "\n",
    "# -------------------------------------\n",
    "\n",
    "open(\"results.dat\",\"a\") do f\n",
    "    l = \"$en : $simtime s : $rmse\\n\"\n",
    "    print(l)\n",
    "    write(f, l)\n",
    "end\n",
    ";"
   ]
  },
  {
   "cell_type": "markdown",
   "metadata": {},
   "source": [
    "## HMC territory"
   ]
  },
  {
   "cell_type": "code",
   "execution_count": null,
   "metadata": {},
   "outputs": [],
   "source": [
    "include(\"pmf_ll.jl\")\n",
    "(ll, gll) = pmf_ll(rows[train_mask], cols[train_mask], rates[train_mask], \n",
    "                    nU, nV, sR, sU, sV, d)"
   ]
  },
  {
   "cell_type": "markdown",
   "metadata": {},
   "source": [
    "## HMC runs"
   ]
  },
  {
   "cell_type": "code",
   "execution_count": null,
   "metadata": {},
   "outputs": [],
   "source": [
    "include(\"hmc.jl\")"
   ]
  },
  {
   "cell_type": "code",
   "execution_count": null,
   "metadata": {},
   "outputs": [],
   "source": [
    "ta = time()\n",
    "samples = hmc(ll, gll, x0; steps=100, burnin=5, stepsize=0.01);\n",
    "print(time()-ta)"
   ]
  },
  {
   "cell_type": "code",
   "execution_count": null,
   "metadata": {},
   "outputs": [],
   "source": [
    "ss = sum(samples)/length(samples);"
   ]
  },
  {
   "cell_type": "code",
   "execution_count": null,
   "metadata": {},
   "outputs": [],
   "source": [
    "pmf_rmse(rows[test_mask], cols[test_mask], rates[test_mask],  nU, nV, d, ss)"
   ]
  },
  {
   "cell_type": "code",
   "execution_count": null,
   "metadata": {},
   "outputs": [],
   "source": []
  }
 ],
 "metadata": {
  "kernelspec": {
   "display_name": "Julia 0.6.0",
   "language": "julia",
   "name": "julia-0.6"
  },
  "language_info": {
   "file_extension": ".jl",
   "mimetype": "application/julia",
   "name": "julia",
   "version": "0.6.0"
  }
 },
 "nbformat": 4,
 "nbformat_minor": 2
}
